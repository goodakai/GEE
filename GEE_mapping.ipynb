{
  "cells": [
    {
      "cell_type": "markdown",
      "metadata": {
        "id": "view-in-github",
        "colab_type": "text"
      },
      "source": [
        "<a href=\"https://colab.research.google.com/github/goodakai/GEE/blob/main/GEE_mapping.ipynb\" target=\"_parent\"><img src=\"https://colab.research.google.com/assets/colab-badge.svg\" alt=\"Open In Colab\"/></a>"
      ]
    },
    {
      "cell_type": "code",
      "source": [
        "# python code for mapping leucogranite based on GEE\n",
        "# author: Dakai Guo,Ziye Wang\n",
        "# contact: Ziye Wang (Email: ziyewang@cug.edu.cn)\n",
        "\n",
        "# mount google cloud drive and GEE API\n",
        "from google.colab import drive\n",
        "drive.mount('/content/drive')\n",
        "import ee\n",
        "ee.Authenticate()\n",
        "ee.Initialize(project='ee-kaifangguo')\n",
        "\n",
        "# input vector file\n",
        "aoi = ee.FeatureCollection(\"projects/ee-kaifangguo/assets/AOI\")\n",
        "hl_aoi = ee.FeatureCollection(\"projects/ee-kaifangguo/assets/cndhl\")\n",
        "unhl_aoi = ee.FeatureCollection(\"projects/ee-kaifangguo/assets/unhl\")\n",
        "\n",
        "# Sentinel2 cloud mask function\n",
        "def maskS2clouds(image):\n",
        "  qa = image.select('QA60');\n",
        "  cloudBitMask = 1 << 10;\n",
        "  cirrusBitMask = 1 << 11;\n",
        "  mask = qa.bitwiseAnd(cloudBitMask).eq(0).And(qa.bitwiseAnd(cirrusBitMask).eq(0));\n",
        "  return image.updateMask(mask).divide(100);\n",
        "\n",
        "# input ASTER and Sentinel2 image\n",
        "asterimage =  (ee.Image('projects/ee-kaifangguo/assets/asterjz')\n",
        "             .multiply(100)\n",
        "             .clip(aoi)\n",
        "             .select(['green','red','nir','swir1','swir2','swir3','swir4','swir5','swir6'],\n",
        "                 ['A01','A02','A3N','A04','A05','A06','A07','A08','A09']));\n",
        "\n",
        "sentinel2image =  (ee.ImageCollection('COPERNICUS/S2_SR_HARMONIZED')\n",
        "                   .filterDate('2020-01-01','2022-12-31')\n",
        "                   .filter(ee.Filter.lt('CLOUDY_PIXEL_PERCENTAGE',10))\n",
        "                   .filterBounds(aoi)\n",
        "                   .map(maskS2clouds)\n",
        "                   .median()\n",
        "                   .clip(aoi)\n",
        "                   .select(['B2','B3','B4','B5','B6','B7','B8','B8A','B11','B12']));\n",
        "\n",
        "# select remote sensing bands\n",
        "asterbands = asterimage.select('A3N','A04','A06','A07')\n",
        "sentinel2bands = sentinel2image.select('B11')\n",
        "alldata = asterbands.addBands(sentinel2bands)\n",
        "bands = alldata.bandNames()\n",
        "\n",
        "# production of train data\n",
        "positive_po = ee.FeatureCollection.randomPoints(hl_aoi,4000)\n",
        "negative_po = ee.FeatureCollection.randomPoints(unhl_aoi,4000)\n",
        "\n",
        "def add_1(feature):\n",
        "    return feature.set('Lithology', 1)\n",
        "positive_data = positive_po.map(add_1)\n",
        "\n",
        "def add_0(feature):\n",
        "    return feature.set('Lithology', 0)\n",
        "negative_data = negative_po.map(add_0)\n",
        "\n",
        "train_points = positive_data.merge(negative_data)\n",
        "train_data = alldata.sampleRegions(**{\n",
        "    'collection': train_points,\n",
        "    'properties': ['Lithology'],\n",
        "    'scale': 100\n",
        "})\n",
        "\n",
        "# training the random forest model\n",
        "withRandom = train_data.randomColumn('random')\n",
        "split = 0.7\n",
        "trainingPartition = withRandom.filter(ee.Filter.lt('random', split))\n",
        "testingPartition = withRandom.filter(ee.Filter.gte('random', split))\n",
        "\n",
        "rf = ee.Classifier.smileRandomForest(15).setOutputMode('PROBABILITY').train(**{\n",
        "    'features': trainingPartition,\n",
        "    'classProperty': 'Lithology',\n",
        "    'inputProperties': bands\n",
        "})\n",
        "\n",
        "# test model performance\n",
        "validated = testingPartition.classify(rf)\n",
        "\n",
        "def probToClass(feature):\n",
        "    prob = ee.Number(feature.get('classification'))\n",
        "    label = prob.gte(0.5).toInt()\n",
        "    return feature.set('predicted', label)\n",
        "\n",
        "validatedClass = validated.select('Lithology','classification').map(probToClass)\n",
        "confusionMatrix = validatedClass.errorMatrix('Lithology','predicted')\n",
        "print('confusionMatrix',confusionMatrix.getInfo())\n",
        "print('overall accuracy', confusionMatrix.accuracy().getInfo())\n",
        "print('kappa accuracy', confusionMatrix.kappa().getInfo())\n",
        "\n",
        "# output the mapping results\n",
        "img_classfication = alldata.classify(rf)\n",
        "task = ee.batch.Export.image.toDrive(image=img_classfication,\n",
        "                   region=aoi.geometry(),\n",
        "                   description='5bands',\n",
        "                   folder='hlrf',\n",
        "                   fileNamePrefix='5bands',\n",
        "                   scale=100,\n",
        "                   crs='EPSG:4326')\n",
        "\n",
        "task.start()"
      ],
      "metadata": {
        "colab": {
          "base_uri": "https://localhost:8080/"
        },
        "id": "mFQjOq8B6uJi",
        "outputId": "57fada11-9ac2-4e27-d141-a02ff627d979"
      },
      "execution_count": null,
      "outputs": [
        {
          "output_type": "stream",
          "name": "stdout",
          "text": [
            "Drive already mounted at /content/drive; to attempt to forcibly remount, call drive.mount(\"/content/drive\", force_remount=True).\n",
            "confusionMatrix [[1044, 180], [119, 1030]]\n",
            "overall accuracy 0.8739991571849979\n",
            "kappa accuracy 0.7481559648560497\n"
          ]
        }
      ]
    }
  ],
  "metadata": {
    "accelerator": "GPU",
    "colab": {
      "provenance": [],
      "gpuType": "T4",
      "include_colab_link": true
    },
    "kernelspec": {
      "display_name": "Python 3",
      "name": "python3"
    }
  },
  "nbformat": 4,
  "nbformat_minor": 0
}